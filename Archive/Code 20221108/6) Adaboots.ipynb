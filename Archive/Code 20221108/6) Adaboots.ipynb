{
 "cells": [
  {
   "cell_type": "code",
   "execution_count": 1,
   "id": "b1254d0d-f7ae-497b-97cb-a53606c4e6e0",
   "metadata": {},
   "outputs": [],
   "source": [
    "# Load libraries\n",
    "import pandas as pd\n",
    "import numpy as np\n",
    "import matplotlib.pyplot as plt\n",
    "from sklearn.ensemble import AdaBoostClassifier\n",
    "from sklearn import datasets\n",
    "# Import train_test_split function\n",
    "from sklearn.model_selection import train_test_split\n",
    "#Import scikit-learn metrics module for accuracy calculation\n",
    "from sklearn import metrics\n",
    "from sklearn.metrics import plot_confusion_matrix\n",
    "from sklearn.model_selection import RepeatedStratifiedKFold\n",
    "from sklearn.model_selection import GridSearchCV\n",
    "\n",
    "#score\n",
    "from sklearn.metrics import precision_score, accuracy_score, roc_auc_score, confusion_matrix,f1_score, roc_curve, auc, recall_score\n"
   ]
  },
  {
   "cell_type": "code",
   "execution_count": 2,
   "id": "4e8af6d3-2396-4eaa-b542-93991b4a279a",
   "metadata": {},
   "outputs": [
    {
     "data": {
      "text/html": [
       "<div>\n",
       "<style scoped>\n",
       "    .dataframe tbody tr th:only-of-type {\n",
       "        vertical-align: middle;\n",
       "    }\n",
       "\n",
       "    .dataframe tbody tr th {\n",
       "        vertical-align: top;\n",
       "    }\n",
       "\n",
       "    .dataframe thead th {\n",
       "        text-align: right;\n",
       "    }\n",
       "</style>\n",
       "<table border=\"1\" class=\"dataframe\">\n",
       "  <thead>\n",
       "    <tr style=\"text-align: right;\">\n",
       "      <th></th>\n",
       "      <th>Total debt service (% of exports of goods, services and primary income)</th>\n",
       "      <th>Short-term debt (% of total external debt)</th>\n",
       "      <th>Real interest rate (%)</th>\n",
       "      <th>Total reserves minus gold (in %)</th>\n",
       "      <th>Trade (% of GDP)</th>\n",
       "      <th>Imports of goods and services (current US$)</th>\n",
       "      <th>Exports of goods and services (current US$)</th>\n",
       "      <th>Current account balance (% of GDP)</th>\n",
       "      <th>Portfolio investment, net (BoP, current US$)</th>\n",
       "      <th>Foreign direct investment, net inflows (% of GDP)</th>\n",
       "      <th>...</th>\n",
       "      <th>Left Government (democ)</th>\n",
       "      <th>Polity (polity)</th>\n",
       "      <th>Durable (durable)</th>\n",
       "      <th>Turnover (xconst)</th>\n",
       "      <th>Legislative/Executive election (exrec)</th>\n",
       "      <th>State fragility index (sfi)</th>\n",
       "      <th>Years (poleff)</th>\n",
       "      <th>Economic Effectiveness (ecoeff)</th>\n",
       "      <th>Presist (presistance)</th>\n",
       "      <th>Target</th>\n",
       "    </tr>\n",
       "  </thead>\n",
       "  <tbody>\n",
       "    <tr>\n",
       "      <th>0</th>\n",
       "      <td>0.0</td>\n",
       "      <td>0.0</td>\n",
       "      <td>0.511705</td>\n",
       "      <td>1.000000</td>\n",
       "      <td>0.380783</td>\n",
       "      <td>0.002563</td>\n",
       "      <td>0.003350</td>\n",
       "      <td>0.453849</td>\n",
       "      <td>0.206589</td>\n",
       "      <td>0.038336</td>\n",
       "      <td>...</td>\n",
       "      <td>1.0</td>\n",
       "      <td>1.0</td>\n",
       "      <td>0.775862</td>\n",
       "      <td>1.0</td>\n",
       "      <td>1.0</td>\n",
       "      <td>0.166667</td>\n",
       "      <td>0.0</td>\n",
       "      <td>0.0</td>\n",
       "      <td>1.0</td>\n",
       "      <td>0.0</td>\n",
       "    </tr>\n",
       "    <tr>\n",
       "      <th>1</th>\n",
       "      <td>0.0</td>\n",
       "      <td>0.0</td>\n",
       "      <td>0.512088</td>\n",
       "      <td>0.848367</td>\n",
       "      <td>0.371018</td>\n",
       "      <td>0.003331</td>\n",
       "      <td>0.003961</td>\n",
       "      <td>0.461811</td>\n",
       "      <td>0.206589</td>\n",
       "      <td>0.038640</td>\n",
       "      <td>...</td>\n",
       "      <td>1.0</td>\n",
       "      <td>1.0</td>\n",
       "      <td>0.784483</td>\n",
       "      <td>1.0</td>\n",
       "      <td>1.0</td>\n",
       "      <td>0.166667</td>\n",
       "      <td>0.0</td>\n",
       "      <td>0.0</td>\n",
       "      <td>1.0</td>\n",
       "      <td>0.0</td>\n",
       "    </tr>\n",
       "    <tr>\n",
       "      <th>2</th>\n",
       "      <td>0.0</td>\n",
       "      <td>0.0</td>\n",
       "      <td>0.511337</td>\n",
       "      <td>0.664417</td>\n",
       "      <td>0.338931</td>\n",
       "      <td>0.004087</td>\n",
       "      <td>0.005054</td>\n",
       "      <td>0.469933</td>\n",
       "      <td>0.206589</td>\n",
       "      <td>0.048814</td>\n",
       "      <td>...</td>\n",
       "      <td>1.0</td>\n",
       "      <td>1.0</td>\n",
       "      <td>0.793103</td>\n",
       "      <td>1.0</td>\n",
       "      <td>1.0</td>\n",
       "      <td>0.166667</td>\n",
       "      <td>0.0</td>\n",
       "      <td>0.0</td>\n",
       "      <td>1.0</td>\n",
       "      <td>0.0</td>\n",
       "    </tr>\n",
       "    <tr>\n",
       "      <th>3</th>\n",
       "      <td>0.0</td>\n",
       "      <td>0.0</td>\n",
       "      <td>0.509767</td>\n",
       "      <td>0.472346</td>\n",
       "      <td>0.347603</td>\n",
       "      <td>0.006803</td>\n",
       "      <td>0.007776</td>\n",
       "      <td>0.476156</td>\n",
       "      <td>0.206589</td>\n",
       "      <td>0.073088</td>\n",
       "      <td>...</td>\n",
       "      <td>1.0</td>\n",
       "      <td>1.0</td>\n",
       "      <td>0.801724</td>\n",
       "      <td>1.0</td>\n",
       "      <td>1.0</td>\n",
       "      <td>0.166667</td>\n",
       "      <td>0.0</td>\n",
       "      <td>0.0</td>\n",
       "      <td>1.0</td>\n",
       "      <td>0.0</td>\n",
       "    </tr>\n",
       "    <tr>\n",
       "      <th>4</th>\n",
       "      <td>0.0</td>\n",
       "      <td>0.0</td>\n",
       "      <td>0.508391</td>\n",
       "      <td>0.404584</td>\n",
       "      <td>0.356862</td>\n",
       "      <td>0.008622</td>\n",
       "      <td>0.009476</td>\n",
       "      <td>0.483780</td>\n",
       "      <td>0.206589</td>\n",
       "      <td>0.043774</td>\n",
       "      <td>...</td>\n",
       "      <td>1.0</td>\n",
       "      <td>1.0</td>\n",
       "      <td>0.810345</td>\n",
       "      <td>1.0</td>\n",
       "      <td>1.0</td>\n",
       "      <td>0.166667</td>\n",
       "      <td>0.0</td>\n",
       "      <td>0.0</td>\n",
       "      <td>1.0</td>\n",
       "      <td>0.0</td>\n",
       "    </tr>\n",
       "  </tbody>\n",
       "</table>\n",
       "<p>5 rows × 36 columns</p>\n",
       "</div>"
      ],
      "text/plain": [
       "   Total debt service (% of exports of goods, services and primary income)  \\\n",
       "0                                                0.0                         \n",
       "1                                                0.0                         \n",
       "2                                                0.0                         \n",
       "3                                                0.0                         \n",
       "4                                                0.0                         \n",
       "\n",
       "   Short-term debt (% of total external debt)  Real interest rate (%)  \\\n",
       "0                                         0.0                0.511705   \n",
       "1                                         0.0                0.512088   \n",
       "2                                         0.0                0.511337   \n",
       "3                                         0.0                0.509767   \n",
       "4                                         0.0                0.508391   \n",
       "\n",
       "   Total reserves minus gold (in %)  Trade (% of GDP)  \\\n",
       "0                          1.000000          0.380783   \n",
       "1                          0.848367          0.371018   \n",
       "2                          0.664417          0.338931   \n",
       "3                          0.472346          0.347603   \n",
       "4                          0.404584          0.356862   \n",
       "\n",
       "   Imports of goods and services (current US$)  \\\n",
       "0                                     0.002563   \n",
       "1                                     0.003331   \n",
       "2                                     0.004087   \n",
       "3                                     0.006803   \n",
       "4                                     0.008622   \n",
       "\n",
       "   Exports of goods and services (current US$)  \\\n",
       "0                                     0.003350   \n",
       "1                                     0.003961   \n",
       "2                                     0.005054   \n",
       "3                                     0.007776   \n",
       "4                                     0.009476   \n",
       "\n",
       "   Current account balance (% of GDP)  \\\n",
       "0                            0.453849   \n",
       "1                            0.461811   \n",
       "2                            0.469933   \n",
       "3                            0.476156   \n",
       "4                            0.483780   \n",
       "\n",
       "   Portfolio investment, net (BoP, current US$)  \\\n",
       "0                                      0.206589   \n",
       "1                                      0.206589   \n",
       "2                                      0.206589   \n",
       "3                                      0.206589   \n",
       "4                                      0.206589   \n",
       "\n",
       "   Foreign direct investment, net inflows (% of GDP)  ...  \\\n",
       "0                                           0.038336  ...   \n",
       "1                                           0.038640  ...   \n",
       "2                                           0.048814  ...   \n",
       "3                                           0.073088  ...   \n",
       "4                                           0.043774  ...   \n",
       "\n",
       "   Left Government (democ)  Polity (polity)  Durable (durable)  \\\n",
       "0                      1.0              1.0           0.775862   \n",
       "1                      1.0              1.0           0.784483   \n",
       "2                      1.0              1.0           0.793103   \n",
       "3                      1.0              1.0           0.801724   \n",
       "4                      1.0              1.0           0.810345   \n",
       "\n",
       "   Turnover (xconst)  Legislative/Executive election (exrec)  \\\n",
       "0                1.0                                     1.0   \n",
       "1                1.0                                     1.0   \n",
       "2                1.0                                     1.0   \n",
       "3                1.0                                     1.0   \n",
       "4                1.0                                     1.0   \n",
       "\n",
       "   State fragility index (sfi)  Years (poleff)  \\\n",
       "0                     0.166667             0.0   \n",
       "1                     0.166667             0.0   \n",
       "2                     0.166667             0.0   \n",
       "3                     0.166667             0.0   \n",
       "4                     0.166667             0.0   \n",
       "\n",
       "   Economic Effectiveness (ecoeff)  Presist (presistance)  Target  \n",
       "0                              0.0                    1.0     0.0  \n",
       "1                              0.0                    1.0     0.0  \n",
       "2                              0.0                    1.0     0.0  \n",
       "3                              0.0                    1.0     0.0  \n",
       "4                              0.0                    1.0     0.0  \n",
       "\n",
       "[5 rows x 36 columns]"
      ]
     },
     "execution_count": 2,
     "metadata": {},
     "output_type": "execute_result"
    }
   ],
   "source": [
    "#Read data\n",
    "df_agg = pd.read_csv(\"Sample Data/FS_ALL.csv\")\n",
    "df_agg.head()"
   ]
  },
  {
   "cell_type": "code",
   "execution_count": 3,
   "id": "ac838c08-3b62-4a3b-b8ae-d934f4220f80",
   "metadata": {},
   "outputs": [],
   "source": [
    "# 讀入資料\n",
    "X = df_agg.drop(columns=['Target','Short-term debt (% of total external debt)','Total debt service (% of exports of goods, services and primary income)'])\n",
    "X = X.values\n",
    "y = df_agg['Target'].values"
   ]
  },
  {
   "cell_type": "code",
   "execution_count": 4,
   "id": "1b8290d3-9d99-4410-b690-9f7613f4bf43",
   "metadata": {},
   "outputs": [],
   "source": [
    "# Split dataset into training set and test set\n",
    "X_train, X_test, y_train, y_test = train_test_split(X, y, test_size=0.3, random_state = 1)\n"
   ]
  },
  {
   "cell_type": "code",
   "execution_count": 5,
   "id": "0227d224-48e4-48d4-a9ef-adbb27c8426e",
   "metadata": {},
   "outputs": [],
   "source": [
    "# Create adaboost classifer object\n",
    "abc = AdaBoostClassifier(n_estimators=50,\n",
    "                         learning_rate=1)\n",
    "# Train Adaboost Classifer\n",
    "model = abc.fit(X_train, y_train)\n",
    "\n",
    "#Predict the response for test dataset\n",
    "y_pred = model.predict(X_test)\n"
   ]
  },
  {
   "cell_type": "code",
   "execution_count": 6,
   "id": "5220ed0c-3d93-4fb5-ab80-3f3b528539ea",
   "metadata": {},
   "outputs": [
    {
     "name": "stdout",
     "output_type": "stream",
     "text": [
      "Accuracy: 0.9230769230769231\n"
     ]
    }
   ],
   "source": [
    "# Model Accuracy, how often is the classifier correct?\n",
    "print(\"Accuracy:\",metrics.accuracy_score(y_test, y_pred))\n"
   ]
  },
  {
   "cell_type": "code",
   "execution_count": 7,
   "id": "500d14f5-5c25-4826-b0d0-da7c304315d9",
   "metadata": {},
   "outputs": [
    {
     "name": "stdout",
     "output_type": "stream",
     "text": [
      "Accuracy: 0.8717948717948718\n"
     ]
    }
   ],
   "source": [
    "# Load libraries\n",
    "from sklearn.ensemble import AdaBoostClassifier\n",
    "\n",
    "# Import Support Vector Classifier\n",
    "from sklearn.svm import SVC\n",
    "#Import scikit-learn metrics module for accuracy calculation\n",
    "from sklearn import metrics\n",
    "svc=SVC(probability=True, kernel='linear')\n",
    "\n",
    "# Create adaboost classifer object\n",
    "abc =AdaBoostClassifier(n_estimators=50, base_estimator=svc,learning_rate=2)\n",
    "\n",
    "# Train Adaboost Classifer\n",
    "model = abc.fit(X_train, y_train)\n",
    "\n",
    "#Predict the response for test dataset\n",
    "y_pred = model.predict(X_test)\n",
    "\n",
    "\n",
    "# Model Accuracy, how often is the classifier correct?\n",
    "print(\"Accuracy:\",metrics.accuracy_score(y_test, y_pred))\n"
   ]
  },
  {
   "cell_type": "code",
   "execution_count": 8,
   "id": "474b0a51-dde2-4c5c-8c6e-55150add5ae2",
   "metadata": {},
   "outputs": [
    {
     "name": "stdout",
     "output_type": "stream",
     "text": [
      "Confusion Matrix:\n",
      " [[68  0]\n",
      " [10  0]]\n",
      "Accuracy: 0.8717948717948718\n",
      "Recall Score (Macro) 0.5\n",
      "Recall Score (Default) 0.0\n",
      "Precision Score (Macro) 0.9358974358974359\n",
      "Precision Score (Default) 1.0\n",
      "F1 Score (Macro): 0.4657534246575343\n",
      "F1 Score (Default): 0.0\n",
      "ROC_AUC Score 0.5\n"
     ]
    },
    {
     "name": "stderr",
     "output_type": "stream",
     "text": [
      "C:\\Users\\User\\anaconda3\\lib\\site-packages\\sklearn\\utils\\deprecation.py:87: FutureWarning: Function plot_confusion_matrix is deprecated; Function `plot_confusion_matrix` is deprecated in 1.0 and will be removed in 1.2. Use one of the class methods: ConfusionMatrixDisplay.from_predictions or ConfusionMatrixDisplay.from_estimator.\n",
      "  warnings.warn(msg, category=FutureWarning)\n"
     ]
    },
    {
     "data": {
      "image/png": "[encoded data removed]",
      "text/plain": [
       "<Figure size 432x288 with 2 Axes>"
      ]
     },
     "metadata": {
      "needs_background": "light"
     },
     "output_type": "display_data"
    }
   ],
   "source": [
    "# 績效\n",
    "print(\"Confusion Matrix:\\n\", confusion_matrix(y_test, y_pred))\n",
    "print(\"Accuracy:\", accuracy_score(y_test, y_pred))\n",
    "\n",
    "print(\"Recall Score (Macro)\", recall_score(y_test, y_pred, average='macro',zero_division=1))\n",
    "print(\"Recall Score (Default)\", recall_score(y_test, y_pred, zero_division=1))     \n",
    "\n",
    "print(\"Precision Score (Macro)\",precision_score(y_test, y_pred, average='macro',zero_division=1))\n",
    "print(\"Precision Score (Default)\",precision_score(y_test, y_pred, zero_division=1))\n",
    "\n",
    "print(\"F1 Score (Macro):\", f1_score(y_test, y_pred, average='macro'))\n",
    "print(\"F1 Score (Default):\", f1_score(y_test, y_pred,zero_division=1))\n",
    "\n",
    "print(\"ROC_AUC Score\",roc_auc_score(y_test,y_pred,multi_class='ovr'))\n",
    "plot_confusion_matrix(model, X_test, y_test)  \n",
    "plt.show()"
   ]
  },
  {
   "cell_type": "code",
   "execution_count": 9,
   "id": "1ff73198-4311-4547-a033-bf04d629586f",
   "metadata": {},
   "outputs": [
    {
     "data": {
      "text/plain": [
       "\"\\nfpr, tpr, threshold = roc_curve(y_test, y_pred)\\nauc = auc(fpr, tpr)\\n\\nplt.figure(figsize=(5, 5), dpi=100)\\nplt.plot(fpr, tpr, linestyle='-', label='NB (auc = %0.3f)' % auc)\\n\\nplt.xlabel('False Positive Rate -->')\\nplt.ylabel('True Positive Rate -->')\\n\\nplt.legend()\\nplt.show()\\n\""
      ]
     },
     "execution_count": 9,
     "metadata": {},
     "output_type": "execute_result"
    }
   ],
   "source": [
    "'''\n",
    "fpr, tpr, threshold = roc_curve(y_test, y_pred)\n",
    "auc = auc(fpr, tpr)\n",
    "\n",
    "plt.figure(figsize=(5, 5), dpi=100)\n",
    "plt.plot(fpr, tpr, linestyle='-', label='NB (auc = %0.3f)' % auc)\n",
    "\n",
    "plt.xlabel('False Positive Rate -->')\n",
    "plt.ylabel('True Positive Rate -->')\n",
    "\n",
    "plt.legend()\n",
    "plt.show()\n",
    "'''"
   ]
  },
  {
   "cell_type": "code",
   "execution_count": 10,
   "id": "7d12d4bd-001c-4a40-9512-5b5fb8f31219",
   "metadata": {},
   "outputs": [
    {
     "data": {
      "image/png": "[encoded data removed]",
      "text/plain": [
       "<Figure size 432x288 with 1 Axes>"
      ]
     },
     "metadata": {
      "needs_background": "light"
     },
     "output_type": "display_data"
    }
   ],
   "source": [
    "#AP = Average precision \n",
    "from sklearn.metrics import PrecisionRecallDisplay\n",
    "\n",
    "display = PrecisionRecallDisplay.from_estimator(\n",
    "    model, X_test, y_test, name=\"Adaboost\"\n",
    ")\n",
    "_ = display.ax_.set_title(\"2-class Precision-Recall curve\")"
   ]
  },
  {
   "cell_type": "code",
   "execution_count": 11,
   "id": "7c70a593-94a5-4fd4-b498-af1403e5ebff",
   "metadata": {},
   "outputs": [],
   "source": [
    "#GridSearchCV"
   ]
  },
  {
   "cell_type": "code",
   "execution_count": 12,
   "id": "1c77b205-e3fb-423c-b57b-b0f57c66e4a7",
   "metadata": {},
   "outputs": [],
   "source": [
    "# define the model with default hyperparameters\n",
    "model = AdaBoostClassifier()\n",
    "\n",
    "# define the grid of values to search\n",
    "grid = dict()\n",
    "grid['n_estimators'] = [10, 50, 100, 500]\n",
    "grid['learning_rate'] = [0.0001, 0.001, 0.01, 0.1, 1.0]\n",
    "\n",
    "# define the evaluation procedure\n",
    "cv = RepeatedStratifiedKFold(n_splits=10, n_repeats=3, random_state=1)\n",
    "\n",
    "# define the grid search procedure\n",
    "grid_search = GridSearchCV(estimator=model, param_grid=grid, n_jobs=-1, cv=cv, scoring='recall')\n",
    "\n",
    "# execute the grid search\n",
    "grid_result = grid_search.fit(X_train, y_train)\n",
    "y_pred = grid_result.predict(X_test)"
   ]
  },
  {
   "cell_type": "code",
   "execution_count": 13,
   "id": "cc62c37d-b0de-4c3b-9322-a5125c5b17d9",
   "metadata": {},
   "outputs": [
    {
     "name": "stdout",
     "output_type": "stream",
     "text": [
      "Confusion Matrix:\n",
      " [[67  1]\n",
      " [ 7  3]]\n",
      "Accuracy: 0.8974358974358975\n",
      "Recall Score (Macro) 0.6426470588235295\n",
      "Recall Score (Default) 0.3\n",
      "Precision Score (Macro) 0.8277027027027026\n",
      "Precision Score (Default) 0.75\n",
      "F1 Score (Macro): 0.6861167002012072\n",
      "F1 Score (Default): 0.4285714285714285\n",
      "ROC_AUC Score 0.6426470588235295\n"
     ]
    },
    {
     "name": "stderr",
     "output_type": "stream",
     "text": [
      "C:\\Users\\User\\anaconda3\\lib\\site-packages\\sklearn\\utils\\deprecation.py:87: FutureWarning: Function plot_confusion_matrix is deprecated; Function `plot_confusion_matrix` is deprecated in 1.0 and will be removed in 1.2. Use one of the class methods: ConfusionMatrixDisplay.from_predictions or ConfusionMatrixDisplay.from_estimator.\n",
      "  warnings.warn(msg, category=FutureWarning)\n"
     ]
    },
    {
     "data": {
      "image/png": "[encoded data removed]",
      "text/plain": [
       "<Figure size 432x288 with 2 Axes>"
      ]
     },
     "metadata": {
      "needs_background": "light"
     },
     "output_type": "display_data"
    }
   ],
   "source": [
    "# 績效\n",
    "print(\"Confusion Matrix:\\n\", confusion_matrix(y_test, y_pred))\n",
    "print(\"Accuracy:\", accuracy_score(y_test, y_pred))\n",
    "\n",
    "print(\"Recall Score (Macro)\", recall_score(y_test, y_pred, average='macro',zero_division=1))\n",
    "print(\"Recall Score (Default)\", recall_score(y_test, y_pred, zero_division=1))     \n",
    "\n",
    "print(\"Precision Score (Macro)\",precision_score(y_test, y_pred, average='macro',zero_division=1))\n",
    "print(\"Precision Score (Default)\",precision_score(y_test, y_pred, zero_division=1))\n",
    "\n",
    "print(\"F1 Score (Macro):\", f1_score(y_test, y_pred, average='macro'))\n",
    "print(\"F1 Score (Default):\", f1_score(y_test, y_pred,zero_division=1))\n",
    "print(\"ROC_AUC Score\",roc_auc_score(y_test,y_pred,multi_class='ovr'))\n",
    "plot_confusion_matrix(grid_result, X_test, y_test)  \n",
    "plt.show()"
   ]
  },
  {
   "cell_type": "code",
   "execution_count": 14,
   "id": "6471cf78-a352-4029-9d9d-479e94a64948",
   "metadata": {},
   "outputs": [
    {
     "data": {
      "image/png": "[encoded data removed]",
      "text/plain": [
       "<Figure size 500x500 with 1 Axes>"
      ]
     },
     "metadata": {
      "needs_background": "light"
     },
     "output_type": "display_data"
    }
   ],
   "source": [
    "fpr, tpr, threshold = roc_curve(y_test, y_pred)\n",
    "auc = auc(fpr, tpr)\n",
    "\n",
    "plt.figure(figsize=(5, 5), dpi=100)\n",
    "plt.plot(fpr, tpr, linestyle='-', label='AdaBoost (auc = %0.3f)' % auc)\n",
    "\n",
    "plt.xlabel('False Positive Rate -->')\n",
    "plt.ylabel('True Positive Rate -->')\n",
    "\n",
    "plt.legend()\n",
    "plt.show()"
   ]
  },
  {
   "cell_type": "code",
   "execution_count": 15,
   "id": "ba0e4472-dcc2-4a12-b038-4eb06ce7f1b8",
   "metadata": {},
   "outputs": [
    {
     "data": {
      "image/png": "[encoded data removed]",
      "text/plain": [
       "<Figure size 432x288 with 1 Axes>"
      ]
     },
     "metadata": {
      "needs_background": "light"
     },
     "output_type": "display_data"
    }
   ],
   "source": [
    "from sklearn.metrics import PrecisionRecallDisplay\n",
    "\n",
    "display = PrecisionRecallDisplay.from_estimator(\n",
    "    grid_search, X_test, y_test, name=\"AdaBoost\"\n",
    ")\n",
    "_ = display.ax_.set_title(\"2-class Precision-Recall curve\")"
   ]
  },
  {
   "cell_type": "code",
   "execution_count": null,
   "id": "a7a9ea66-082d-40b3-a6e6-b51ab3197380",
   "metadata": {},
   "outputs": [],
   "source": []
  }
 ],
 "metadata": {
  "kernelspec": {
   "display_name": "Python 3 (ipykernel)",
   "language": "python",
   "name": "python3"
  },
  "language_info": {
   "codemirror_mode": {
    "name": "ipython",
    "version": 3
   },
   "file_extension": ".py",
   "mimetype": "text/x-python",
   "name": "python",
   "nbconvert_exporter": "python",
   "pygments_lexer": "ipython3",
   "version": "3.9.7"
  }
 },
 "nbformat": 4,
 "nbformat_minor": 5
}
