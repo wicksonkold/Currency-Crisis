{
 "cells": [
  {
   "cell_type": "code",
   "execution_count": 1,
   "id": "88b005f5-d9aa-4eb4-898c-fa961000c2dd",
   "metadata": {},
   "outputs": [],
   "source": [
    "import pandas as pd\n",
    "import matplotlib.pyplot as plt\n",
    "from sklearn.neural_network import MLPClassifier\n",
    "from sklearn.datasets import make_classification\n",
    "from sklearn.model_selection import train_test_split\n",
    "from sklearn.model_selection import GridSearchCV\n",
    "from sklearn.metrics import plot_confusion_matrix"
   ]
  },
  {
   "cell_type": "code",
   "execution_count": 2,
   "id": "4a60a285-beb0-4aa1-98c7-10ebd0c45d43",
   "metadata": {},
   "outputs": [
    {
     "data": {
      "text/html": [
       "<div>\n",
       "<style scoped>\n",
       "    .dataframe tbody tr th:only-of-type {\n",
       "        vertical-align: middle;\n",
       "    }\n",
       "\n",
       "    .dataframe tbody tr th {\n",
       "        vertical-align: top;\n",
       "    }\n",
       "\n",
       "    .dataframe thead th {\n",
       "        text-align: right;\n",
       "    }\n",
       "</style>\n",
       "<table border=\"1\" class=\"dataframe\">\n",
       "  <thead>\n",
       "    <tr style=\"text-align: right;\">\n",
       "      <th></th>\n",
       "      <th>Total debt service (% of exports of goods, services and primary income)</th>\n",
       "      <th>Short-term debt (% of total external debt)</th>\n",
       "      <th>Real interest rate (%)</th>\n",
       "      <th>Total reserves minus gold (in %)</th>\n",
       "      <th>Trade (% of GDP)</th>\n",
       "      <th>Imports of goods and services (current US$)</th>\n",
       "      <th>Exports of goods and services (current US$)</th>\n",
       "      <th>Current account balance (% of GDP)</th>\n",
       "      <th>Portfolio investment, net (BoP, current US$)</th>\n",
       "      <th>Foreign direct investment, net inflows (% of GDP)</th>\n",
       "      <th>...</th>\n",
       "      <th>Left Government (democ)</th>\n",
       "      <th>Polity (polity)</th>\n",
       "      <th>Durable (durable)</th>\n",
       "      <th>Turnover (xconst)</th>\n",
       "      <th>Legislative/Executive election (exrec)</th>\n",
       "      <th>State fragility index (sfi)</th>\n",
       "      <th>Years (poleff)</th>\n",
       "      <th>Economic Effectiveness (ecoeff)</th>\n",
       "      <th>Presist (presistance)</th>\n",
       "      <th>Target</th>\n",
       "    </tr>\n",
       "  </thead>\n",
       "  <tbody>\n",
       "    <tr>\n",
       "      <th>0</th>\n",
       "      <td>0.0</td>\n",
       "      <td>0.0</td>\n",
       "      <td>0.474178</td>\n",
       "      <td>0.033486</td>\n",
       "      <td>0.505572</td>\n",
       "      <td>0.134906</td>\n",
       "      <td>0.140229</td>\n",
       "      <td>0.511154</td>\n",
       "      <td>0.206589</td>\n",
       "      <td>0.035591</td>\n",
       "      <td>...</td>\n",
       "      <td>1.0</td>\n",
       "      <td>1.0</td>\n",
       "      <td>0.956897</td>\n",
       "      <td>1.0</td>\n",
       "      <td>1.0</td>\n",
       "      <td>0.166667</td>\n",
       "      <td>0.0</td>\n",
       "      <td>0.0</td>\n",
       "      <td>1.0</td>\n",
       "      <td>0.0</td>\n",
       "    </tr>\n",
       "    <tr>\n",
       "      <th>1</th>\n",
       "      <td>0.0</td>\n",
       "      <td>0.0</td>\n",
       "      <td>0.382779</td>\n",
       "      <td>0.034902</td>\n",
       "      <td>0.524968</td>\n",
       "      <td>0.165479</td>\n",
       "      <td>0.169241</td>\n",
       "      <td>0.483212</td>\n",
       "      <td>0.206589</td>\n",
       "      <td>0.078971</td>\n",
       "      <td>...</td>\n",
       "      <td>1.0</td>\n",
       "      <td>1.0</td>\n",
       "      <td>0.965517</td>\n",
       "      <td>1.0</td>\n",
       "      <td>1.0</td>\n",
       "      <td>0.166667</td>\n",
       "      <td>0.0</td>\n",
       "      <td>0.0</td>\n",
       "      <td>1.0</td>\n",
       "      <td>0.0</td>\n",
       "    </tr>\n",
       "    <tr>\n",
       "      <th>2</th>\n",
       "      <td>0.0</td>\n",
       "      <td>0.0</td>\n",
       "      <td>0.396536</td>\n",
       "      <td>0.036982</td>\n",
       "      <td>0.510508</td>\n",
       "      <td>0.184951</td>\n",
       "      <td>0.191848</td>\n",
       "      <td>0.520425</td>\n",
       "      <td>0.206589</td>\n",
       "      <td>0.113087</td>\n",
       "      <td>...</td>\n",
       "      <td>1.0</td>\n",
       "      <td>1.0</td>\n",
       "      <td>0.974138</td>\n",
       "      <td>1.0</td>\n",
       "      <td>1.0</td>\n",
       "      <td>0.166667</td>\n",
       "      <td>0.0</td>\n",
       "      <td>0.0</td>\n",
       "      <td>1.0</td>\n",
       "      <td>0.0</td>\n",
       "    </tr>\n",
       "    <tr>\n",
       "      <th>3</th>\n",
       "      <td>0.0</td>\n",
       "      <td>0.0</td>\n",
       "      <td>0.500240</td>\n",
       "      <td>0.037556</td>\n",
       "      <td>0.518623</td>\n",
       "      <td>0.217342</td>\n",
       "      <td>0.214736</td>\n",
       "      <td>0.401164</td>\n",
       "      <td>0.206589</td>\n",
       "      <td>0.113190</td>\n",
       "      <td>...</td>\n",
       "      <td>1.0</td>\n",
       "      <td>1.0</td>\n",
       "      <td>0.982759</td>\n",
       "      <td>1.0</td>\n",
       "      <td>1.0</td>\n",
       "      <td>0.166667</td>\n",
       "      <td>0.0</td>\n",
       "      <td>0.0</td>\n",
       "      <td>1.0</td>\n",
       "      <td>0.0</td>\n",
       "    </tr>\n",
       "    <tr>\n",
       "      <th>4</th>\n",
       "      <td>0.0</td>\n",
       "      <td>0.0</td>\n",
       "      <td>0.626534</td>\n",
       "      <td>0.039688</td>\n",
       "      <td>0.564300</td>\n",
       "      <td>0.256425</td>\n",
       "      <td>0.242148</td>\n",
       "      <td>0.284666</td>\n",
       "      <td>0.206589</td>\n",
       "      <td>0.088505</td>\n",
       "      <td>...</td>\n",
       "      <td>1.0</td>\n",
       "      <td>1.0</td>\n",
       "      <td>0.991379</td>\n",
       "      <td>1.0</td>\n",
       "      <td>1.0</td>\n",
       "      <td>0.166667</td>\n",
       "      <td>0.0</td>\n",
       "      <td>0.0</td>\n",
       "      <td>1.0</td>\n",
       "      <td>0.0</td>\n",
       "    </tr>\n",
       "  </tbody>\n",
       "</table>\n",
       "<p>5 rows × 36 columns</p>\n",
       "</div>"
      ],
      "text/plain": [
       "   Total debt service (% of exports of goods, services and primary income)  \\\n",
       "0                                                0.0                         \n",
       "1                                                0.0                         \n",
       "2                                                0.0                         \n",
       "3                                                0.0                         \n",
       "4                                                0.0                         \n",
       "\n",
       "   Short-term debt (% of total external debt)  Real interest rate (%)  \\\n",
       "0                                         0.0                0.474178   \n",
       "1                                         0.0                0.382779   \n",
       "2                                         0.0                0.396536   \n",
       "3                                         0.0                0.500240   \n",
       "4                                         0.0                0.626534   \n",
       "\n",
       "   Total reserves minus gold (in %)  Trade (% of GDP)  \\\n",
       "0                          0.033486          0.505572   \n",
       "1                          0.034902          0.524968   \n",
       "2                          0.036982          0.510508   \n",
       "3                          0.037556          0.518623   \n",
       "4                          0.039688          0.564300   \n",
       "\n",
       "   Imports of goods and services (current US$)  \\\n",
       "0                                     0.134906   \n",
       "1                                     0.165479   \n",
       "2                                     0.184951   \n",
       "3                                     0.217342   \n",
       "4                                     0.256425   \n",
       "\n",
       "   Exports of goods and services (current US$)  \\\n",
       "0                                     0.140229   \n",
       "1                                     0.169241   \n",
       "2                                     0.191848   \n",
       "3                                     0.214736   \n",
       "4                                     0.242148   \n",
       "\n",
       "   Current account balance (% of GDP)  \\\n",
       "0                            0.511154   \n",
       "1                            0.483212   \n",
       "2                            0.520425   \n",
       "3                            0.401164   \n",
       "4                            0.284666   \n",
       "\n",
       "   Portfolio investment, net (BoP, current US$)  \\\n",
       "0                                      0.206589   \n",
       "1                                      0.206589   \n",
       "2                                      0.206589   \n",
       "3                                      0.206589   \n",
       "4                                      0.206589   \n",
       "\n",
       "   Foreign direct investment, net inflows (% of GDP)  ...  \\\n",
       "0                                           0.035591  ...   \n",
       "1                                           0.078971  ...   \n",
       "2                                           0.113087  ...   \n",
       "3                                           0.113190  ...   \n",
       "4                                           0.088505  ...   \n",
       "\n",
       "   Left Government (democ)  Polity (polity)  Durable (durable)  \\\n",
       "0                      1.0              1.0           0.956897   \n",
       "1                      1.0              1.0           0.965517   \n",
       "2                      1.0              1.0           0.974138   \n",
       "3                      1.0              1.0           0.982759   \n",
       "4                      1.0              1.0           0.991379   \n",
       "\n",
       "   Turnover (xconst)  Legislative/Executive election (exrec)  \\\n",
       "0                1.0                                     1.0   \n",
       "1                1.0                                     1.0   \n",
       "2                1.0                                     1.0   \n",
       "3                1.0                                     1.0   \n",
       "4                1.0                                     1.0   \n",
       "\n",
       "   State fragility index (sfi)  Years (poleff)  \\\n",
       "0                     0.166667             0.0   \n",
       "1                     0.166667             0.0   \n",
       "2                     0.166667             0.0   \n",
       "3                     0.166667             0.0   \n",
       "4                     0.166667             0.0   \n",
       "\n",
       "   Economic Effectiveness (ecoeff)  Presist (presistance)  Target  \n",
       "0                              0.0                    1.0     0.0  \n",
       "1                              0.0                    1.0     0.0  \n",
       "2                              0.0                    1.0     0.0  \n",
       "3                              0.0                    1.0     0.0  \n",
       "4                              0.0                    1.0     0.0  \n",
       "\n",
       "[5 rows x 36 columns]"
      ]
     },
     "execution_count": 2,
     "metadata": {},
     "output_type": "execute_result"
    }
   ],
   "source": [
    "#Read data\n",
    "df_agg = pd.read_csv(\"Sample Data/FS_ALL(No Est).csv\")\n",
    "df_agg.head()"
   ]
  },
  {
   "cell_type": "code",
   "execution_count": 3,
   "id": "9b28c4e5-61bd-45a8-bf0e-752842487f3b",
   "metadata": {},
   "outputs": [],
   "source": [
    "# 讀入資料\n",
    "X = df_agg.drop(columns=['Target','Short-term debt (% of total external debt)','Total debt service (% of exports of goods, services and primary income)'])\n",
    "X = X.values\n",
    "y = df_agg['Target'].values"
   ]
  },
  {
   "cell_type": "code",
   "execution_count": 4,
   "id": "b879117f-e726-4a1b-95d1-235a775a2f16",
   "metadata": {},
   "outputs": [
    {
     "name": "stderr",
     "output_type": "stream",
     "text": [
      "/Users/Admin/opt/anaconda3/lib/python3.9/site-packages/sklearn/neural_network/_multilayer_perceptron.py:702: ConvergenceWarning: Stochastic Optimizer: Maximum iterations (300) reached and the optimization hasn't converged yet.\n",
      "  warnings.warn(\n"
     ]
    }
   ],
   "source": [
    "#Train test split\n",
    "X_train, X_test, y_train, y_test = train_test_split(X, y, test_size=0.2, random_state=1)\n",
    "clf = MLPClassifier(random_state=1, max_iter=300).fit(X_train, y_train)"
   ]
  },
  {
   "cell_type": "code",
   "execution_count": 5,
   "id": "64a7c9ff-8add-468a-af5b-2840c92eda97",
   "metadata": {},
   "outputs": [],
   "source": [
    "import warnings\n",
    "warnings.filterwarnings(\"ignore\")"
   ]
  },
  {
   "cell_type": "code",
   "execution_count": 6,
   "id": "98dff3c6-acf6-46b7-af6e-380d415422ff",
   "metadata": {
    "scrolled": true,
    "tags": []
   },
   "outputs": [
    {
     "name": "stdout",
     "output_type": "stream",
     "text": [
      "Fitting 5 folds for each of 90 candidates, totalling 450 fits\n",
      "Score:  0.48\n",
      "Parameters:  {'activation': 'identity', 'alpha': 0, 'hidden_layer_sizes': 34, 'learning_rate': 'invscaling', 'learning_rate_init': 0.005, 'max_iter': 500, 'solver': 'adam'}\n"
     ]
    }
   ],
   "source": [
    "param_grid = {\n",
    "    #'hidden_layer_sizes':[5,10,15,(5,5),(5,10)],\n",
    "    'hidden_layer_sizes':[34,34,34],\n",
    "    'activation': ['identity'],\n",
    "    'solver': ['adam'],\n",
    "    'alpha': [0,0.0005,0.0001,0.0005,0.001],\n",
    "    'learning_rate':['invscaling'],\n",
    "    'learning_rate_init': [0,0.0001,0.0005,0.001, 0.005,0.01],\n",
    "    'max_iter': [500],\n",
    "}\n",
    "\n",
    "gridSearch = GridSearchCV(MLPClassifier(random_state=1), param_grid,\n",
    "                          cv=5,\n",
    "                          scoring='recall',\n",
    "                          refit='recall',\n",
    "                          verbose=1)\n",
    "gridSearch.fit(X_train, y_train)\n",
    "y_pred = gridSearch.predict(X_test)\n",
    "print('Score: ', gridSearch.best_score_)\n",
    "print('Parameters: ', gridSearch.best_params_)"
   ]
  },
  {
   "cell_type": "code",
   "execution_count": 7,
   "id": "ff1c38d8-0a8e-4f4d-86a9-c68d7d5ac040",
   "metadata": {},
   "outputs": [
    {
     "name": "stdout",
     "output_type": "stream",
     "text": [
      "Confusion Matrix:\n",
      " [[32  1]\n",
      " [ 2  4]]\n",
      "Accuracy:         0.9230769230769231\n",
      "Recall Score:     0.6666666666666666\n",
      "Precision Score:  0.8\n",
      "F1 Score:         0.7272727272727272\n",
      "ROC_AUC Score:    0.8181818181818181\n"
     ]
    },
    {
     "data": {
      "image/png": "[encoded data removed]",
      "text/plain": [
       "<Figure size 640x480 with 2 Axes>"
      ]
     },
     "metadata": {},
     "output_type": "display_data"
    }
   ],
   "source": [
    "#score\n",
    "from sklearn.metrics import precision_score, accuracy_score, roc_auc_score, confusion_matrix,f1_score, roc_curve, auc, recall_score\n",
    "\n",
    "# AFTER CV \n",
    "print(\"Confusion Matrix:\\n\", confusion_matrix(y_test, y_pred))\n",
    "print(\"Accuracy:        \", accuracy_score(y_test, y_pred))\n",
    "print(\"Recall Score:    \", recall_score(y_test, y_pred, zero_division=1))     \n",
    "print(\"Precision Score: \",precision_score(y_test, y_pred, zero_division=1))\n",
    "print(\"F1 Score:        \", f1_score(y_test, y_pred,zero_division=1))\n",
    "print(\"ROC_AUC Score:   \",roc_auc_score(y_test,y_pred,multi_class='ovr'))\n",
    "plot_confusion_matrix(gridSearch, X_test, y_test)  \n",
    "plt.show()"
   ]
  },
  {
   "cell_type": "code",
   "execution_count": 8,
   "id": "af888b37-4d90-416b-a057-b4a3b01fa748",
   "metadata": {},
   "outputs": [
    {
     "data": {
      "image/png": "[encoded data removed]",
      "text/plain": [
       "<Figure size 500x500 with 1 Axes>"
      ]
     },
     "metadata": {},
     "output_type": "display_data"
    }
   ],
   "source": [
    "fpr, tpr, threshold = roc_curve(y_test, y_pred)\n",
    "auc = auc(fpr, tpr)\n",
    "\n",
    "plt.figure(figsize=(5, 5), dpi=100)\n",
    "plt.plot(fpr, tpr, linestyle='-', label='MLP (auc = %0.3f)' % auc)\n",
    "plt.title(\"Receiver Operating Characteristic (ROC Curve)\")\n",
    "plt.xlabel('False Positive Rate -->')\n",
    "plt.ylabel('True Positive Rate -->')\n",
    "\n",
    "plt.legend()\n",
    "plt.show()"
   ]
  },
  {
   "cell_type": "code",
   "execution_count": 9,
   "id": "9e4ba875-5050-4028-b6a6-8490f81bd69e",
   "metadata": {},
   "outputs": [
    {
     "data": {
      "image/png": "[encoded data removed]",
      "text/plain": [
       "<Figure size 640x480 with 1 Axes>"
      ]
     },
     "metadata": {},
     "output_type": "display_data"
    }
   ],
   "source": [
    "#AP = Average precision\n",
    "from sklearn.metrics import PrecisionRecallDisplay\n",
    "\n",
    "display = PrecisionRecallDisplay.from_estimator(\n",
    "    gridSearch, X_test, y_test, name=\"MLP\"\n",
    ")\n",
    "_ = display.ax_.set_title(\"2-class Precision-Recall curve\")"
   ]
  },
  {
   "cell_type": "code",
   "execution_count": null,
   "id": "3cfb66a4-24ea-4b87-8b62-96a229b0eb79",
   "metadata": {},
   "outputs": [],
   "source": []
  }
 ],
 "metadata": {
  "kernelspec": {
   "display_name": "Python 3 (ipykernel)",
   "language": "python",
   "name": "python3"
  },
  "language_info": {
   "codemirror_mode": {
    "name": "ipython",
    "version": 3
   },
   "file_extension": ".py",
   "mimetype": "text/x-python",
   "name": "python",
   "nbconvert_exporter": "python",
   "pygments_lexer": "ipython3",
   "version": "3.9.12"
  }
 },
 "nbformat": 4,
 "nbformat_minor": 5
}
