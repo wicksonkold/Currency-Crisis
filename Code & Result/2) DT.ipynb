{
 "cells": [
  {
   "cell_type": "code",
   "execution_count": 1,
   "id": "dc2c75e4-688b-4626-b50b-91ab9bc67610",
   "metadata": {},
   "outputs": [],
   "source": [
    "import os\n",
    "os.environ[\"PATH\"] += os.pathsep + 'D:/Program Files (x86)/Graphviz/bin/'\n",
    "import pandas as pd\n",
    "from sklearn import tree\n",
    "#score\n",
    "from sklearn.metrics import precision_score, accuracy_score, roc_auc_score, confusion_matrix,f1_score, roc_curve, auc, recall_score\n",
    "from sklearn import datasets\n",
    "from sklearn.tree import DecisionTreeClassifier\n",
    "from sklearn.linear_model import LogisticRegression\n",
    "import matplotlib.pyplot as plt\n",
    "from sklearn.metrics import plot_confusion_matrix"
   ]
  },
  {
   "cell_type": "code",
   "execution_count": 2,
   "id": "5bf1c52b-1a5e-4d3e-82ed-257c46ebe0bf",
   "metadata": {},
   "outputs": [
    {
     "data": {
      "text/html": [
       "<div>\n",
       "<style scoped>\n",
       "    .dataframe tbody tr th:only-of-type {\n",
       "        vertical-align: middle;\n",
       "    }\n",
       "\n",
       "    .dataframe tbody tr th {\n",
       "        vertical-align: top;\n",
       "    }\n",
       "\n",
       "    .dataframe thead th {\n",
       "        text-align: right;\n",
       "    }\n",
       "</style>\n",
       "<table border=\"1\" class=\"dataframe\">\n",
       "  <thead>\n",
       "    <tr style=\"text-align: right;\">\n",
       "      <th></th>\n",
       "      <th>Total debt service (% of exports of goods, services and primary income)</th>\n",
       "      <th>Short-term debt (% of total external debt)</th>\n",
       "      <th>Real interest rate (%)</th>\n",
       "      <th>Total reserves minus gold (in %)</th>\n",
       "      <th>Trade (% of GDP)</th>\n",
       "      <th>Imports of goods and services (current US$)</th>\n",
       "      <th>Exports of goods and services (current US$)</th>\n",
       "      <th>Current account balance (% of GDP)</th>\n",
       "      <th>Portfolio investment, net (BoP, current US$)</th>\n",
       "      <th>Foreign direct investment, net inflows (% of GDP)</th>\n",
       "      <th>...</th>\n",
       "      <th>Left Government (democ)</th>\n",
       "      <th>Polity (polity)</th>\n",
       "      <th>Durable (durable)</th>\n",
       "      <th>Turnover (xconst)</th>\n",
       "      <th>Legislative/Executive election (exrec)</th>\n",
       "      <th>State fragility index (sfi)</th>\n",
       "      <th>Years (poleff)</th>\n",
       "      <th>Economic Effectiveness (ecoeff)</th>\n",
       "      <th>Presist (presistance)</th>\n",
       "      <th>Target</th>\n",
       "    </tr>\n",
       "  </thead>\n",
       "  <tbody>\n",
       "    <tr>\n",
       "      <th>0</th>\n",
       "      <td>0.0</td>\n",
       "      <td>0.0</td>\n",
       "      <td>0.474178</td>\n",
       "      <td>0.033486</td>\n",
       "      <td>0.505572</td>\n",
       "      <td>0.134906</td>\n",
       "      <td>0.140229</td>\n",
       "      <td>0.511154</td>\n",
       "      <td>0.206589</td>\n",
       "      <td>0.035591</td>\n",
       "      <td>...</td>\n",
       "      <td>1.0</td>\n",
       "      <td>1.0</td>\n",
       "      <td>0.956897</td>\n",
       "      <td>1.0</td>\n",
       "      <td>1.0</td>\n",
       "      <td>0.166667</td>\n",
       "      <td>0.0</td>\n",
       "      <td>0.0</td>\n",
       "      <td>1.0</td>\n",
       "      <td>0.0</td>\n",
       "    </tr>\n",
       "    <tr>\n",
       "      <th>1</th>\n",
       "      <td>0.0</td>\n",
       "      <td>0.0</td>\n",
       "      <td>0.382779</td>\n",
       "      <td>0.034902</td>\n",
       "      <td>0.524968</td>\n",
       "      <td>0.165479</td>\n",
       "      <td>0.169241</td>\n",
       "      <td>0.483212</td>\n",
       "      <td>0.206589</td>\n",
       "      <td>0.078971</td>\n",
       "      <td>...</td>\n",
       "      <td>1.0</td>\n",
       "      <td>1.0</td>\n",
       "      <td>0.965517</td>\n",
       "      <td>1.0</td>\n",
       "      <td>1.0</td>\n",
       "      <td>0.166667</td>\n",
       "      <td>0.0</td>\n",
       "      <td>0.0</td>\n",
       "      <td>1.0</td>\n",
       "      <td>0.0</td>\n",
       "    </tr>\n",
       "    <tr>\n",
       "      <th>2</th>\n",
       "      <td>0.0</td>\n",
       "      <td>0.0</td>\n",
       "      <td>0.396536</td>\n",
       "      <td>0.036982</td>\n",
       "      <td>0.510508</td>\n",
       "      <td>0.184951</td>\n",
       "      <td>0.191848</td>\n",
       "      <td>0.520425</td>\n",
       "      <td>0.206589</td>\n",
       "      <td>0.113087</td>\n",
       "      <td>...</td>\n",
       "      <td>1.0</td>\n",
       "      <td>1.0</td>\n",
       "      <td>0.974138</td>\n",
       "      <td>1.0</td>\n",
       "      <td>1.0</td>\n",
       "      <td>0.166667</td>\n",
       "      <td>0.0</td>\n",
       "      <td>0.0</td>\n",
       "      <td>1.0</td>\n",
       "      <td>0.0</td>\n",
       "    </tr>\n",
       "    <tr>\n",
       "      <th>3</th>\n",
       "      <td>0.0</td>\n",
       "      <td>0.0</td>\n",
       "      <td>0.500240</td>\n",
       "      <td>0.037556</td>\n",
       "      <td>0.518623</td>\n",
       "      <td>0.217342</td>\n",
       "      <td>0.214736</td>\n",
       "      <td>0.401164</td>\n",
       "      <td>0.206589</td>\n",
       "      <td>0.113190</td>\n",
       "      <td>...</td>\n",
       "      <td>1.0</td>\n",
       "      <td>1.0</td>\n",
       "      <td>0.982759</td>\n",
       "      <td>1.0</td>\n",
       "      <td>1.0</td>\n",
       "      <td>0.166667</td>\n",
       "      <td>0.0</td>\n",
       "      <td>0.0</td>\n",
       "      <td>1.0</td>\n",
       "      <td>0.0</td>\n",
       "    </tr>\n",
       "    <tr>\n",
       "      <th>4</th>\n",
       "      <td>0.0</td>\n",
       "      <td>0.0</td>\n",
       "      <td>0.626534</td>\n",
       "      <td>0.039688</td>\n",
       "      <td>0.564300</td>\n",
       "      <td>0.256425</td>\n",
       "      <td>0.242148</td>\n",
       "      <td>0.284666</td>\n",
       "      <td>0.206589</td>\n",
       "      <td>0.088505</td>\n",
       "      <td>...</td>\n",
       "      <td>1.0</td>\n",
       "      <td>1.0</td>\n",
       "      <td>0.991379</td>\n",
       "      <td>1.0</td>\n",
       "      <td>1.0</td>\n",
       "      <td>0.166667</td>\n",
       "      <td>0.0</td>\n",
       "      <td>0.0</td>\n",
       "      <td>1.0</td>\n",
       "      <td>0.0</td>\n",
       "    </tr>\n",
       "  </tbody>\n",
       "</table>\n",
       "<p>5 rows × 36 columns</p>\n",
       "</div>"
      ],
      "text/plain": [
       "   Total debt service (% of exports of goods, services and primary income)  \\\n",
       "0                                                0.0                         \n",
       "1                                                0.0                         \n",
       "2                                                0.0                         \n",
       "3                                                0.0                         \n",
       "4                                                0.0                         \n",
       "\n",
       "   Short-term debt (% of total external debt)  Real interest rate (%)  \\\n",
       "0                                         0.0                0.474178   \n",
       "1                                         0.0                0.382779   \n",
       "2                                         0.0                0.396536   \n",
       "3                                         0.0                0.500240   \n",
       "4                                         0.0                0.626534   \n",
       "\n",
       "   Total reserves minus gold (in %)  Trade (% of GDP)  \\\n",
       "0                          0.033486          0.505572   \n",
       "1                          0.034902          0.524968   \n",
       "2                          0.036982          0.510508   \n",
       "3                          0.037556          0.518623   \n",
       "4                          0.039688          0.564300   \n",
       "\n",
       "   Imports of goods and services (current US$)  \\\n",
       "0                                     0.134906   \n",
       "1                                     0.165479   \n",
       "2                                     0.184951   \n",
       "3                                     0.217342   \n",
       "4                                     0.256425   \n",
       "\n",
       "   Exports of goods and services (current US$)  \\\n",
       "0                                     0.140229   \n",
       "1                                     0.169241   \n",
       "2                                     0.191848   \n",
       "3                                     0.214736   \n",
       "4                                     0.242148   \n",
       "\n",
       "   Current account balance (% of GDP)  \\\n",
       "0                            0.511154   \n",
       "1                            0.483212   \n",
       "2                            0.520425   \n",
       "3                            0.401164   \n",
       "4                            0.284666   \n",
       "\n",
       "   Portfolio investment, net (BoP, current US$)  \\\n",
       "0                                      0.206589   \n",
       "1                                      0.206589   \n",
       "2                                      0.206589   \n",
       "3                                      0.206589   \n",
       "4                                      0.206589   \n",
       "\n",
       "   Foreign direct investment, net inflows (% of GDP)  ...  \\\n",
       "0                                           0.035591  ...   \n",
       "1                                           0.078971  ...   \n",
       "2                                           0.113087  ...   \n",
       "3                                           0.113190  ...   \n",
       "4                                           0.088505  ...   \n",
       "\n",
       "   Left Government (democ)  Polity (polity)  Durable (durable)  \\\n",
       "0                      1.0              1.0           0.956897   \n",
       "1                      1.0              1.0           0.965517   \n",
       "2                      1.0              1.0           0.974138   \n",
       "3                      1.0              1.0           0.982759   \n",
       "4                      1.0              1.0           0.991379   \n",
       "\n",
       "   Turnover (xconst)  Legislative/Executive election (exrec)  \\\n",
       "0                1.0                                     1.0   \n",
       "1                1.0                                     1.0   \n",
       "2                1.0                                     1.0   \n",
       "3                1.0                                     1.0   \n",
       "4                1.0                                     1.0   \n",
       "\n",
       "   State fragility index (sfi)  Years (poleff)  \\\n",
       "0                     0.166667             0.0   \n",
       "1                     0.166667             0.0   \n",
       "2                     0.166667             0.0   \n",
       "3                     0.166667             0.0   \n",
       "4                     0.166667             0.0   \n",
       "\n",
       "   Economic Effectiveness (ecoeff)  Presist (presistance)  Target  \n",
       "0                              0.0                    1.0     0.0  \n",
       "1                              0.0                    1.0     0.0  \n",
       "2                              0.0                    1.0     0.0  \n",
       "3                              0.0                    1.0     0.0  \n",
       "4                              0.0                    1.0     0.0  \n",
       "\n",
       "[5 rows x 36 columns]"
      ]
     },
     "execution_count": 2,
     "metadata": {},
     "output_type": "execute_result"
    }
   ],
   "source": [
    "#Read data\n",
    "df_agg = pd.read_csv(\"Sample Data/FS_ALL(No Est).csv\")\n",
    "df_agg.head()"
   ]
  },
  {
   "cell_type": "code",
   "execution_count": 3,
   "id": "4eee4247-630c-4c1c-aea7-2a5c5deca2ba",
   "metadata": {},
   "outputs": [
    {
     "data": {
      "text/plain": [
       "array([[0.47417818, 0.03348621, 0.50557236, ..., 0.        , 0.        ,\n",
       "        1.        ],\n",
       "       [0.38277894, 0.03490153, 0.52496822, ..., 0.        , 0.        ,\n",
       "        1.        ],\n",
       "       [0.39653646, 0.03698158, 0.51050831, ..., 0.        , 0.        ,\n",
       "        1.        ],\n",
       "       ...,\n",
       "       [0.57318437, 0.04131659, 0.21890098, ..., 0.76666667, 0.33333333,\n",
       "        0.05319149],\n",
       "       [0.63025998, 0.0517304 , 0.19111615, ..., 0.86666667, 0.33333333,\n",
       "        0.05319149],\n",
       "       [0.5063251 , 0.04755578, 0.23535518, ..., 0.96666667, 0.33333333,\n",
       "        0.05319149]])"
      ]
     },
     "execution_count": 3,
     "metadata": {},
     "output_type": "execute_result"
    }
   ],
   "source": [
    "from sklearn import svm\n",
    "import numpy as np\n",
    "\n",
    "# 讀入資料\n",
    "X = df_agg.drop(columns=['Target','Short-term debt (% of total external debt)','Total debt service (% of exports of goods, services and primary income)'])\n",
    "X = X.values\n",
    "y = df_agg['Target'].values\n",
    "X"
   ]
  },
  {
   "cell_type": "code",
   "execution_count": 4,
   "id": "b7ffa1b4-6780-4f04-b20b-1d2459e34d92",
   "metadata": {},
   "outputs": [],
   "source": [
    "from sklearn.model_selection import train_test_split\n",
    "X_train, X_test, y_train, y_test = train_test_split(X,y,test_size=0.2, random_state = 1)\n"
   ]
  },
  {
   "cell_type": "code",
   "execution_count": 5,
   "id": "cd6e858a-bf29-4591-90d1-ab5ea727d850",
   "metadata": {},
   "outputs": [
    {
     "name": "stdout",
     "output_type": "stream",
     "text": [
      "Fitting 5 folds for each of 9 candidates, totalling 45 fits\n"
     ]
    },
    {
     "name": "stderr",
     "output_type": "stream",
     "text": [
      "C:\\Users\\User\\anaconda3\\lib\\site-packages\\sklearn\\tree\\_classes.py:298: FutureWarning: `max_features='auto'` has been deprecated in 1.1 and will be removed in 1.3. To keep the past behaviour, explicitly set `max_features='sqrt'`.\n",
      "  warnings.warn(\n",
      "C:\\Users\\User\\anaconda3\\lib\\site-packages\\sklearn\\tree\\_classes.py:298: FutureWarning: `max_features='auto'` has been deprecated in 1.1 and will be removed in 1.3. To keep the past behaviour, explicitly set `max_features='sqrt'`.\n",
      "  warnings.warn(\n",
      "C:\\Users\\User\\anaconda3\\lib\\site-packages\\sklearn\\tree\\_classes.py:298: FutureWarning: `max_features='auto'` has been deprecated in 1.1 and will be removed in 1.3. To keep the past behaviour, explicitly set `max_features='sqrt'`.\n",
      "  warnings.warn(\n",
      "C:\\Users\\User\\anaconda3\\lib\\site-packages\\sklearn\\tree\\_classes.py:298: FutureWarning: `max_features='auto'` has been deprecated in 1.1 and will be removed in 1.3. To keep the past behaviour, explicitly set `max_features='sqrt'`.\n",
      "  warnings.warn(\n",
      "C:\\Users\\User\\anaconda3\\lib\\site-packages\\sklearn\\tree\\_classes.py:298: FutureWarning: `max_features='auto'` has been deprecated in 1.1 and will be removed in 1.3. To keep the past behaviour, explicitly set `max_features='sqrt'`.\n",
      "  warnings.warn(\n",
      "C:\\Users\\User\\anaconda3\\lib\\site-packages\\sklearn\\tree\\_classes.py:298: FutureWarning: `max_features='auto'` has been deprecated in 1.1 and will be removed in 1.3. To keep the past behaviour, explicitly set `max_features='sqrt'`.\n",
      "  warnings.warn(\n",
      "C:\\Users\\User\\anaconda3\\lib\\site-packages\\sklearn\\tree\\_classes.py:298: FutureWarning: `max_features='auto'` has been deprecated in 1.1 and will be removed in 1.3. To keep the past behaviour, explicitly set `max_features='sqrt'`.\n",
      "  warnings.warn(\n",
      "C:\\Users\\User\\anaconda3\\lib\\site-packages\\sklearn\\tree\\_classes.py:298: FutureWarning: `max_features='auto'` has been deprecated in 1.1 and will be removed in 1.3. To keep the past behaviour, explicitly set `max_features='sqrt'`.\n",
      "  warnings.warn(\n",
      "C:\\Users\\User\\anaconda3\\lib\\site-packages\\sklearn\\tree\\_classes.py:298: FutureWarning: `max_features='auto'` has been deprecated in 1.1 and will be removed in 1.3. To keep the past behaviour, explicitly set `max_features='sqrt'`.\n",
      "  warnings.warn(\n",
      "C:\\Users\\User\\anaconda3\\lib\\site-packages\\sklearn\\tree\\_classes.py:298: FutureWarning: `max_features='auto'` has been deprecated in 1.1 and will be removed in 1.3. To keep the past behaviour, explicitly set `max_features='sqrt'`.\n",
      "  warnings.warn(\n",
      "C:\\Users\\User\\anaconda3\\lib\\site-packages\\sklearn\\tree\\_classes.py:298: FutureWarning: `max_features='auto'` has been deprecated in 1.1 and will be removed in 1.3. To keep the past behaviour, explicitly set `max_features='sqrt'`.\n",
      "  warnings.warn(\n",
      "C:\\Users\\User\\anaconda3\\lib\\site-packages\\sklearn\\tree\\_classes.py:298: FutureWarning: `max_features='auto'` has been deprecated in 1.1 and will be removed in 1.3. To keep the past behaviour, explicitly set `max_features='sqrt'`.\n",
      "  warnings.warn(\n",
      "C:\\Users\\User\\anaconda3\\lib\\site-packages\\sklearn\\tree\\_classes.py:298: FutureWarning: `max_features='auto'` has been deprecated in 1.1 and will be removed in 1.3. To keep the past behaviour, explicitly set `max_features='sqrt'`.\n",
      "  warnings.warn(\n",
      "C:\\Users\\User\\anaconda3\\lib\\site-packages\\sklearn\\tree\\_classes.py:298: FutureWarning: `max_features='auto'` has been deprecated in 1.1 and will be removed in 1.3. To keep the past behaviour, explicitly set `max_features='sqrt'`.\n",
      "  warnings.warn(\n",
      "C:\\Users\\User\\anaconda3\\lib\\site-packages\\sklearn\\tree\\_classes.py:298: FutureWarning: `max_features='auto'` has been deprecated in 1.1 and will be removed in 1.3. To keep the past behaviour, explicitly set `max_features='sqrt'`.\n",
      "  warnings.warn(\n",
      "C:\\Users\\User\\anaconda3\\lib\\site-packages\\sklearn\\tree\\_classes.py:298: FutureWarning: `max_features='auto'` has been deprecated in 1.1 and will be removed in 1.3. To keep the past behaviour, explicitly set `max_features='sqrt'`.\n",
      "  warnings.warn(\n"
     ]
    }
   ],
   "source": [
    "from sklearn.model_selection import GridSearchCV\n",
    "param_grid = {'max_features': ['auto', 'sqrt', 'log2'],\n",
    "              'ccp_alpha': [0.1, .01, .001],\n",
    "              'criterion' :['entropy']\n",
    "             }\n",
    "tree_clas = DecisionTreeClassifier(random_state=1)\n",
    "clf = GridSearchCV(estimator=tree_clas, param_grid=param_grid, cv=5, scoring=['recall'],refit='recall',verbose=1)\n",
    "clf.fit(X_train, y_train)\n",
    "y_pred = clf.predict(X_test)"
   ]
  },
  {
   "cell_type": "code",
   "execution_count": 6,
   "id": "fd388600-6b64-4b23-88d9-91e745b7cda9",
   "metadata": {},
   "outputs": [
    {
     "name": "stdout",
     "output_type": "stream",
     "text": [
      "Confusion Matrix:\n",
      " [[28  5]\n",
      " [ 1  5]]\n",
      "Accuracy:         0.8461538461538461\n",
      "Recall Score:     0.8333333333333334\n",
      "Precision Score:  0.5\n",
      "F1 Score:         0.625\n",
      "ROC_AUC Score:    0.840909090909091\n"
     ]
    },
    {
     "name": "stderr",
     "output_type": "stream",
     "text": [
      "C:\\Users\\User\\anaconda3\\lib\\site-packages\\sklearn\\utils\\deprecation.py:87: FutureWarning: Function plot_confusion_matrix is deprecated; Function `plot_confusion_matrix` is deprecated in 1.0 and will be removed in 1.2. Use one of the class methods: ConfusionMatrixDisplay.from_predictions or ConfusionMatrixDisplay.from_estimator.\n",
      "  warnings.warn(msg, category=FutureWarning)\n"
     ]
    },
    {
     "data": {
      "image/png": "[encoded data removed]",
      "text/plain": [
       "<Figure size 432x288 with 2 Axes>"
      ]
     },
     "metadata": {
      "needs_background": "light"
     },
     "output_type": "display_data"
    }
   ],
   "source": [
    "# AFTER CV \n",
    "print(\"Confusion Matrix:\\n\", confusion_matrix(y_test, y_pred))\n",
    "print(\"Accuracy:        \", accuracy_score(y_test, y_pred))\n",
    "print(\"Recall Score:    \", recall_score(y_test, y_pred, zero_division=1))     \n",
    "print(\"Precision Score: \",precision_score(y_test, y_pred, zero_division=1))\n",
    "print(\"F1 Score:        \", f1_score(y_test, y_pred,zero_division=1))\n",
    "print(\"ROC_AUC Score:   \",roc_auc_score(y_test,y_pred,multi_class='ovr'))\n",
    "plot_confusion_matrix(clf, X_test, y_test)  \n",
    "plt.show()"
   ]
  },
  {
   "cell_type": "code",
   "execution_count": 7,
   "id": "a1553459-f5eb-4115-908e-ec70b3f2dda7",
   "metadata": {},
   "outputs": [
    {
     "data": {
      "image/png": "[encoded data removed]",
      "text/plain": [
       "<Figure size 500x500 with 1 Axes>"
      ]
     },
     "metadata": {
      "needs_background": "light"
     },
     "output_type": "display_data"
    }
   ],
   "source": [
    "\n",
    "fpr, tpr, threshold = roc_curve(y_test, y_pred)\n",
    "auc = auc(fpr, tpr)\n",
    "\n",
    "plt.figure(figsize=(5, 5), dpi=100)\n",
    "plt.plot(fpr, tpr, linestyle='-', label='DT (auc = %0.3f)' % auc)\n",
    "\n",
    "plt.xlabel('False Positive Rate -->')\n",
    "plt.ylabel('True Positive Rate -->')\n",
    "plt.title(\"Receiver Operating Characteristic (ROC Curve)\")\n",
    "plt.legend()\n",
    "plt.show()\n"
   ]
  },
  {
   "cell_type": "code",
   "execution_count": 8,
   "id": "1f8977a0-6122-4e58-8cb3-afc2e4256912",
   "metadata": {},
   "outputs": [
    {
     "data": {
      "image/png": "[encoded data removed]",
      "text/plain": [
       "<Figure size 432x288 with 1 Axes>"
      ]
     },
     "metadata": {
      "needs_background": "light"
     },
     "output_type": "display_data"
    }
   ],
   "source": [
    "from sklearn.metrics import PrecisionRecallDisplay\n",
    "\n",
    "display = PrecisionRecallDisplay.from_estimator(\n",
    "    clf, X_test, y_test, name=\"DT\"\n",
    ")\n",
    "_ = display.ax_.set_title(\"2-class Precision-Recall curve\")"
   ]
  },
  {
   "cell_type": "code",
   "execution_count": null,
   "id": "fc716dbb-ecdb-4362-a97f-e2e81f01a4a1",
   "metadata": {},
   "outputs": [],
   "source": []
  }
 ],
 "metadata": {
  "kernelspec": {
   "display_name": "Python 3 (ipykernel)",
   "language": "python",
   "name": "python3"
  },
  "language_info": {
   "codemirror_mode": {
    "name": "ipython",
    "version": 3
   },
   "file_extension": ".py",
   "mimetype": "text/x-python",
   "name": "python",
   "nbconvert_exporter": "python",
   "pygments_lexer": "ipython3",
   "version": "3.9.7"
  }
 },
 "nbformat": 4,
 "nbformat_minor": 5
}
